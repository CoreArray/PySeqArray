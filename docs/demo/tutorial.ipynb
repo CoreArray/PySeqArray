{
 "cells": [
  {
   "cell_type": "markdown",
   "metadata": {},
   "source": [
    "# Python tutorial with SeqArray files"
   ]
  },
  {
   "cell_type": "code",
   "execution_count": 1,
   "metadata": {
    "collapsed": true
   },
   "outputs": [],
   "source": [
    "import numpy as np\n",
    "import numpy.ma as ma\n",
    "from numpy import linalg as LA\n",
    "import PySeqArray as ps\n",
    "import pandas\n",
    "import matplotlib.pyplot as plt\n",
    "import types\n",
    "\n",
    "%matplotlib inline"
   ]
  },
  {
   "cell_type": "markdown",
   "metadata": {},
   "source": [
    "Open a SeqArray file and display its structure"
   ]
  },
  {
   "cell_type": "code",
   "execution_count": 2,
   "metadata": {
    "collapsed": false
   },
   "outputs": [
    {
     "name": "stdout",
     "output_type": "stream",
     "text": [
      "File: /Users/sts/anaconda/lib/python3.6/site-packages/PySeqArray/data/1KG_phase1_release_v3_chr22.gds (1.1M)\n",
      "+    [  ] *\n",
      "|--+ description   [  ] *\n",
      "|--+ sample.id   { Str8 1092 LZMA_ra(10.5%), 914B } *\n",
      "|--+ variant.id   { Int32 19773 LZMA_ra(8.39%), 6.5K } *\n",
      "|--+ position   { Int32 19773 LZMA_ra(52.0%), 40.1K } *\n",
      "|--+ chromosome   { Str8 19773 LZMA_ra(0.28%), 166B } *\n",
      "|--+ allele   { Str8 19773 LZMA_ra(22.7%), 109.2K } *\n",
      "|--+ genotype   [  ] *\n",
      "|  |--+ data   { Bit2 19773x1092x2 LZMA_ra(8.17%), 861.8K } *\n",
      "|  |--+ extra.index   { Int32 0x3 LZMA_ra, 19B } *\n",
      "|  \\--+ extra   { Int16 0 LZMA_ra, 19B }\n",
      "|--+ phase   [  ]\n",
      "|  |--+ data   { Bit1 19773x1092 LZMA_ra(0.02%), 550B } *\n",
      "|  |--+ extra.index   { Int32 0x3 LZMA_ra, 19B } *\n",
      "|  \\--+ extra   { Bit1 0 LZMA_ra, 19B }\n",
      "|--+ annotation   [  ]\n",
      "|  |--+ id   { Str8 19773 LZMA_ra(35.2%), 75.2K } *\n",
      "|  |--+ qual   { Float32 19773 LZMA_ra(3.62%), 2.8K } *\n",
      "|  |--+ filter   { Int32,factor 19773 LZMA_ra(0.21%), 170B } *\n",
      "|  |--+ info   [  ]\n",
      "|  \\--+ format   [  ]\n",
      "\\--+ sample.annotation   [  ]\n",
      "   |--+ Family.ID   { Str8 1092 LZMA_ra(15.3%), 1.1K }\n",
      "   |--+ Population   { Str8 1092 LZMA_ra(5.08%), 222B }\n",
      "   \\--+ Gender   { Str8 1092 LZMA_ra(5.85%), 386B }\n"
     ]
    }
   ],
   "source": [
    "fn = ps.get_example_path('1KG_phase1_release_v3_chr22.gds')\n",
    "f = ps.SeqArrayFile()\n",
    "f.open(fn)\n",
    "f.show()"
   ]
  },
  {
   "cell_type": "markdown",
   "metadata": {},
   "source": [
    "The dimensions of `sample.id` and `variant.id` tell you the total numbers of samples and variants."
   ]
  },
  {
   "cell_type": "code",
   "execution_count": 3,
   "metadata": {
    "collapsed": false
   },
   "outputs": [
    {
     "data": {
      "text/plain": [
       "array(['HG00096', 'HG00097', 'HG00099', ..., 'NA20819', 'NA20826',\n",
       "       'NA20828'], dtype=object)"
      ]
     },
     "execution_count": 3,
     "metadata": {},
     "output_type": "execute_result"
    }
   ],
   "source": [
    "sampid = f.GetData(\"sample.id\")\n",
    "sampid  # a list of sample IDs"
   ]
  },
  {
   "cell_type": "code",
   "execution_count": 4,
   "metadata": {
    "collapsed": false
   },
   "outputs": [
    {
     "data": {
      "text/plain": [
       "array([    1,     2,     3, ..., 19771, 19772, 19773], dtype=int32)"
      ]
     },
     "execution_count": 4,
     "metadata": {},
     "output_type": "execute_result"
    }
   ],
   "source": [
    "varid = f.GetData(\"variant.id\")\n",
    "varid  # a list of variant IDs"
   ]
  },
  {
   "cell_type": "markdown",
   "metadata": {},
   "source": [
    "Define a subset of samples and variants"
   ]
  },
  {
   "cell_type": "code",
   "execution_count": 5,
   "metadata": {
    "collapsed": true
   },
   "outputs": [],
   "source": [
    "f.FilterSet(sample_id = sampid[:4], variant_id = varid[:6])"
   ]
  },
  {
   "cell_type": "markdown",
   "metadata": {},
   "source": [
    "Get data from the subset of variant data"
   ]
  },
  {
   "cell_type": "code",
   "execution_count": 6,
   "metadata": {
    "collapsed": false
   },
   "outputs": [
    {
     "data": {
      "text/plain": [
       "array(['22', '22', '22', '22', '22', '22'], dtype=object)"
      ]
     },
     "execution_count": 6,
     "metadata": {},
     "output_type": "execute_result"
    }
   ],
   "source": [
    "f.GetData(\"chromosome\")"
   ]
  },
  {
   "cell_type": "code",
   "execution_count": 7,
   "metadata": {
    "collapsed": false
   },
   "outputs": [
    {
     "data": {
      "text/plain": [
       "array(['A,G', 'G,A', 'G,T', 'C,T', 'G,A', 'G,A'], dtype=object)"
      ]
     },
     "execution_count": 7,
     "metadata": {},
     "output_type": "execute_result"
    }
   ],
   "source": [
    "f.GetData(\"allele\")"
   ]
  },
  {
   "cell_type": "code",
   "execution_count": 8,
   "metadata": {
    "collapsed": false
   },
   "outputs": [
    {
     "data": {
      "text/plain": [
       "(6, 4, 2)"
      ]
     },
     "execution_count": 8,
     "metadata": {},
     "output_type": "execute_result"
    }
   ],
   "source": [
    "geno = f.GetData(\"genotype\")\n",
    "geno.shape"
   ]
  },
  {
   "cell_type": "code",
   "execution_count": 9,
   "metadata": {
    "collapsed": false
   },
   "outputs": [
    {
     "data": {
      "text/plain": [
       "array([[[0, 0],\n",
       "        [1, 0],\n",
       "        [1, 0],\n",
       "        [0, 1]],\n",
       "\n",
       "       [[0, 0],\n",
       "        [0, 1],\n",
       "        [0, 1],\n",
       "        [0, 0]],\n",
       "\n",
       "       [[0, 0],\n",
       "        [0, 0],\n",
       "        [0, 0],\n",
       "        [0, 0]],\n",
       "\n",
       "       [[0, 0],\n",
       "        [0, 0],\n",
       "        [0, 0],\n",
       "        [0, 0]],\n",
       "\n",
       "       [[0, 0],\n",
       "        [1, 0],\n",
       "        [0, 1],\n",
       "        [0, 0]],\n",
       "\n",
       "       [[0, 0],\n",
       "        [0, 0],\n",
       "        [0, 0],\n",
       "        [0, 0]]], dtype=uint8)"
      ]
     },
     "execution_count": 9,
     "metadata": {},
     "output_type": "execute_result"
    }
   ],
   "source": [
    "geno"
   ]
  },
  {
   "cell_type": "code",
   "execution_count": 10,
   "metadata": {
    "collapsed": false
   },
   "outputs": [
    {
     "data": {
      "text/plain": [
       "(6, 4)"
      ]
     },
     "execution_count": 10,
     "metadata": {},
     "output_type": "execute_result"
    }
   ],
   "source": [
    "dosage = f.GetData(\"$dosage\")\n",
    "dosage.shape"
   ]
  },
  {
   "cell_type": "code",
   "execution_count": 11,
   "metadata": {
    "collapsed": false
   },
   "outputs": [
    {
     "data": {
      "text/plain": [
       "array([[2, 1, 1, 1],\n",
       "       [2, 1, 1, 2],\n",
       "       [2, 2, 2, 2],\n",
       "       [2, 2, 2, 2],\n",
       "       [2, 1, 1, 2],\n",
       "       [2, 2, 2, 2]], dtype=uint8)"
      ]
     },
     "execution_count": 11,
     "metadata": {},
     "output_type": "execute_result"
    }
   ],
   "source": [
    "dosage"
   ]
  },
  {
   "cell_type": "markdown",
   "metadata": {},
   "source": [
    "## Principal Component Analysis"
   ]
  },
  {
   "cell_type": "code",
   "execution_count": 12,
   "metadata": {
    "collapsed": true
   },
   "outputs": [],
   "source": [
    "f.FilterReset()  # reset the filter"
   ]
  },
  {
   "cell_type": "code",
   "execution_count": 13,
   "metadata": {
    "collapsed": false
   },
   "outputs": [
    {
     "name": "stderr",
     "output_type": "stream",
     "text": [
      "/Users/sts/anaconda/lib/python3.6/site-packages/ipykernel/__main__.py:5: RuntimeWarning: invalid value encountered in true_divide\n"
     ]
    },
    {
     "data": {
      "text/plain": [
       "array([ 39.60517218,  16.51956609,   5.18983317, ...,   0.52165852,\n",
       "         0.51818269,   0.55006929])"
      ]
     },
     "execution_count": 13,
     "metadata": {},
     "output_type": "execute_result"
    }
   ],
   "source": [
    "def pca(val, geno):\n",
    "    gm = ma.masked_array(geno, geno==255)\n",
    "    p = np.mean(gm, axis=1).data * 0.5                # allele frequencies (a vector)\n",
    "    g = np.array(geno, 'double')\n",
    "    g = (g.transpose() - 2*p) / np.sqrt(p * (1 - p))  # normalized by allele frequency\n",
    "    g[np.isnan(g)] = 0                                # correct missing values\n",
    "    g[gm.mask.transpose()] = 0\n",
    "    val.cov = val.cov + np.matmul(g, g.transpose())   # update the cov matrix\n",
    "\n",
    "\n",
    "s = types.SimpleNamespace(cov=0)\n",
    "f.Apply('$dosage', pca, s)\n",
    "\n",
    "s.cov = s.cov * (s.cov.shape[0] / sum(np.diag(s.cov)))\n",
    "\n",
    "w, v = LA.eig(s.cov)\n",
    "\n",
    "w  # eigenvalues"
   ]
  },
  {
   "cell_type": "code",
   "execution_count": 14,
   "metadata": {
    "collapsed": false
   },
   "outputs": [
    {
     "data": {
      "text/plain": [
       "array([-0.01471236, -0.01546884, -0.01359907, ..., -0.01394235,\n",
       "       -0.01273124, -0.01216276])"
      ]
     },
     "execution_count": 14,
     "metadata": {},
     "output_type": "execute_result"
    }
   ],
   "source": [
    "v[:,0]  # the first eigenvector"
   ]
  },
  {
   "cell_type": "code",
   "execution_count": 15,
   "metadata": {
    "collapsed": false
   },
   "outputs": [
    {
     "data": {
      "text/plain": [
       "<matplotlib.collections.PathCollection at 0x11bc93780>"
      ]
     },
     "execution_count": 15,
     "metadata": {},
     "output_type": "execute_result"
    },
    {
     "data": {
      "image/png": "[encoded data removed]",
      "text/plain": [
       "<matplotlib.figure.Figure at 0x118abaeb8>"
      ]
     },
     "metadata": {},
     "output_type": "display_data"
    }
   ],
   "source": [
    "plt.scatter(v[:,0], v[:,1])"
   ]
  }
 ],
 "metadata": {
  "kernelspec": {
   "display_name": "Python 3",
   "language": "python",
   "name": "python3"
  },
  "language_info": {
   "codemirror_mode": {
    "name": "ipython",
    "version": 3
   },
   "file_extension": ".py",
   "mimetype": "text/x-python",
   "name": "python",
   "nbconvert_exporter": "python",
   "pygments_lexer": "ipython3",
   "version": "3.6.0"
  }
 },
 "nbformat": 4,
 "nbformat_minor": 2
}
