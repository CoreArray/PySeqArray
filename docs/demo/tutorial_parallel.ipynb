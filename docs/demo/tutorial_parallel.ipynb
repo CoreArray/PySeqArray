{
 "cells": [
  {
   "cell_type": "markdown",
   "metadata": {},
   "source": [
    "# Python tutorial with multiprocessing"
   ]
  },
  {
   "cell_type": "code",
   "execution_count": 1,
   "metadata": {
    "collapsed": true
   },
   "outputs": [],
   "source": [
    "import numpy as np\n",
    "import numpy.ma as ma\n",
    "import PySeqArray as ps\n",
    "import pandas\n",
    "import matplotlib.pyplot as plt\n",
    "import matplotlib.patches as mpatches\n",
    "import types\n",
    "\n",
    "%matplotlib inline"
   ]
  },
  {
   "cell_type": "markdown",
   "metadata": {},
   "source": [
    "Open an existing SeqArray file and display its structure. The dimensions of sample.id and variant.id tell you the total numbers of samples and variants, i.e., 1092 samples and 19,773 variants."
   ]
  },
  {
   "cell_type": "code",
   "execution_count": 2,
   "metadata": {
    "collapsed": false
   },
   "outputs": [
    {
     "name": "stdout",
     "output_type": "stream",
     "text": [
      "File: /Users/sts/anaconda/lib/python3.6/site-packages/PySeqArray/data/1KG_phase1_release_v3_chr22.gds (1.1M)\n",
      "+    [  ] *\n",
      "|--+ description   [  ] *\n",
      "|--+ sample.id   { Str8 1092 LZMA_ra(10.5%), 914B } *\n",
      "|--+ variant.id   { Int32 19773 LZMA_ra(8.39%), 6.5K } *\n",
      "|--+ position   { Int32 19773 LZMA_ra(52.0%), 40.1K } *\n",
      "|--+ chromosome   { Str8 19773 LZMA_ra(0.28%), 166B } *\n",
      "|--+ allele   { Str8 19773 LZMA_ra(22.7%), 109.2K } *\n",
      "|--+ genotype   [  ] *\n",
      "|  |--+ data   { Bit2 19773x1092x2 LZMA_ra(8.17%), 861.8K } *\n",
      "|  |--+ extra.index   { Int32 0x3 LZMA_ra, 19B } *\n",
      "|  \\--+ extra   { Int16 0 LZMA_ra, 19B }\n",
      "|--+ phase   [  ]\n",
      "|  |--+ data   { Bit1 19773x1092 LZMA_ra(0.02%), 550B } *\n",
      "|  |--+ extra.index   { Int32 0x3 LZMA_ra, 19B } *\n",
      "|  \\--+ extra   { Bit1 0 LZMA_ra, 19B }\n",
      "|--+ annotation   [  ]\n",
      "|  |--+ id   { Str8 19773 LZMA_ra(35.2%), 75.2K } *\n",
      "|  |--+ qual   { Float32 19773 LZMA_ra(3.62%), 2.8K } *\n",
      "|  |--+ filter   { Int32,factor 19773 LZMA_ra(0.21%), 170B } *\n",
      "|  |--+ info   [  ]\n",
      "|  \\--+ format   [  ]\n",
      "\\--+ sample.annotation   [  ]\n",
      "   |--+ Family.ID   { Str8 1092 LZMA_ra(15.3%), 1.1K }\n",
      "   |--+ Population   { Str8 1092 LZMA_ra(5.08%), 222B }\n",
      "   |--+ Gender   { Str8 1092 LZMA_ra(5.85%), 386B }\n",
      "   \\--+ Ancestry   { Str8 1092 LZMA_ra(2.43%), 233B }\n"
     ]
    }
   ],
   "source": [
    "fn = ps.seqExample('1KG_phase1_release_v3_chr22.gds')\n",
    "f = ps.SeqArrayFile()\n",
    "f.open(fn)\n",
    "f.show()"
   ]
  },
  {
   "cell_type": "markdown",
   "metadata": {},
   "source": [
    "Genotypic data and annotations are stored in an array-oriented manner, providing efficient data access using the Python programming language. FilterSet() and GetData() can be used together to retrieve data for a selected set of samples from a defined genomic region. Apply() applies a user-defined function to array margins of genotypes and annotations."
   ]
  },
  {
   "cell_type": "markdown",
   "metadata": {},
   "source": [
    "## Calculation of Allele Frequencies"
   ]
  },
  {
   "cell_type": "code",
   "execution_count": 3,
   "metadata": {
    "collapsed": true
   },
   "outputs": [],
   "source": [
    "f.FilterReset()  # reset the filter"
   ]
  },
  {
   "cell_type": "code",
   "execution_count": 4,
   "metadata": {
    "collapsed": false
   },
   "outputs": [
    {
     "data": {
      "text/plain": [
       "array([ 0.69505495,  0.94322344,  0.99954212, ...,  0.99679487,\n",
       "        0.65842491,  0.91346154])"
      ]
     },
     "execution_count": 4,
     "metadata": {},
     "output_type": "execute_result"
    }
   ],
   "source": [
    "def CalcAF(geno):\n",
    "    gm = ma.masked_array(geno==0, mask=geno==255)  # create a masked array with missing genotypes\n",
    "    v = np.mean(gm, axis=(1,2))                    # gm is a 3D array\n",
    "    v.data[v.mask] = np.nan\n",
    "    return(v.data)\n",
    "\n",
    "f.Apply('genotype', CalcAF, as_is='unlist')"
   ]
  },
  {
   "cell_type": "markdown",
   "metadata": {},
   "source": [
    "### Using 4 cores"
   ]
  },
  {
   "cell_type": "code",
   "execution_count": 5,
   "metadata": {
    "collapsed": false,
    "scrolled": true
   },
   "outputs": [
    {
     "data": {
      "text/plain": [
       "array([ 0.69505495,  0.94322344,  0.99954212, ...,  0.99679487,\n",
       "        0.65842491,  0.91346154])"
      ]
     },
     "execution_count": 5,
     "metadata": {},
     "output_type": "execute_result"
    }
   ],
   "source": [
    "def ParallelCalcAF(file, param):\n",
    "    return file.Apply('genotype', CalcAF, as_is='unlist')\n",
    "\n",
    "f.RunParallel(ParallelCalcAF, ncpu=4)"
   ]
  },
  {
   "cell_type": "markdown",
   "metadata": {},
   "source": [
    "## Principal Component Analysis"
   ]
  },
  {
   "cell_type": "code",
   "execution_count": 6,
   "metadata": {
    "collapsed": false
   },
   "outputs": [],
   "source": [
    "def PCA(val, geno):\n",
    "    gm = ma.masked_array(geno, geno==255)             # create a masked array with missing genotypes\n",
    "    p = np.mean(gm, axis=1).data * 0.5                # allele frequencies (a vector)\n",
    "    g = np.array(geno, 'double')\n",
    "    g = (g.transpose() - 2*p) / np.sqrt(p * (1 - p))  # normalized by allele frequency\n",
    "    g[np.isnan(g)] = 0                                # correct missing values\n",
    "    g[gm.mask.transpose()] = 0\n",
    "    val.cov = val.cov + np.matmul(g, g.transpose())   # update the cov matrix"
   ]
  },
  {
   "cell_type": "markdown",
   "metadata": {},
   "source": [
    "### Using 4 cores"
   ]
  },
  {
   "cell_type": "code",
   "execution_count": 7,
   "metadata": {
    "collapsed": false
   },
   "outputs": [
    {
     "name": "stderr",
     "output_type": "stream",
     "text": [
      "/Users/sts/anaconda/lib/python3.6/site-packages/ipykernel/__main__.py:5: RuntimeWarning: invalid value encountered in true_divide\n",
      "/Users/sts/anaconda/lib/python3.6/site-packages/ipykernel/__main__.py:5: RuntimeWarning: invalid value encountered in true_divide\n"
     ]
    }
   ],
   "source": [
    "def ParallelPCA(file, param):\n",
    "    s = types.SimpleNamespace(cov=0)\n",
    "    file.Apply('$dosage', PCA, s)\n",
    "    return s.cov\n",
    "\n",
    "mat = f.RunParallel(ParallelPCA, ncpu=2, combine=(lambda x,y: x+y))"
   ]
  },
  {
   "cell_type": "code",
   "execution_count": 8,
   "metadata": {
    "collapsed": false
   },
   "outputs": [
    {
     "data": {
      "text/plain": [
       "array([[ 0.70169957,  0.00830316,  0.05113733, ...,  0.01978629,\n",
       "         0.05134734,  0.012317  ],\n",
       "       [ 0.00830316,  0.62280866,  0.03326604, ...,  0.02716621,\n",
       "         0.02789678,  0.02354706],\n",
       "       [ 0.05113733,  0.03326604,  0.77340245, ...,  0.01013458,\n",
       "         0.03042339,  0.02440108],\n",
       "       ..., \n",
       "       [ 0.01978629,  0.02716621,  0.01013458, ...,  0.92201769,\n",
       "         0.02244575,  0.01091362],\n",
       "       [ 0.05134734,  0.02789678,  0.03042339, ...,  0.02244575,\n",
       "         0.63179936,  0.00977053],\n",
       "       [ 0.012317  ,  0.02354706,  0.02440108, ...,  0.01091362,\n",
       "         0.00977053,  0.97954933]])"
      ]
     },
     "execution_count": 8,
     "metadata": {},
     "output_type": "execute_result"
    }
   ],
   "source": [
    "cov = mat * (mat.shape[0] / sum(np.diag(mat)))\n",
    "cov"
   ]
  },
  {
   "cell_type": "code",
   "execution_count": 9,
   "metadata": {
    "collapsed": false
   },
   "outputs": [
    {
     "data": {
      "text/plain": [
       "array([ 39.60517218,  16.51956609,   5.18983317, ...,   0.52165852,\n",
       "         0.51818269,   0.55006929])"
      ]
     },
     "execution_count": 9,
     "metadata": {},
     "output_type": "execute_result"
    }
   ],
   "source": [
    "w, v = np.linalg.eig(cov)\n",
    "w  # eigenvalues"
   ]
  },
  {
   "cell_type": "code",
   "execution_count": 10,
   "metadata": {
    "collapsed": false
   },
   "outputs": [
    {
     "data": {
      "text/plain": [
       "<matplotlib.text.Text at 0x117ed2828>"
      ]
     },
     "execution_count": 10,
     "metadata": {},
     "output_type": "execute_result"
    },
    {
     "data": {
      "image/png": "[encoded data removed]",
      "text/plain": [
       "<matplotlib.figure.Figure at 0x118186438>"
      ]
     },
     "metadata": {},
     "output_type": "display_data"
    }
   ],
   "source": [
    "plt.scatter(v[:,0], v[:,1], s=10)\n",
    "plt.xlabel('PC 1')\n",
    "plt.ylabel('PC 2')"
   ]
  }
 ],
 "metadata": {
  "kernelspec": {
   "display_name": "Python 3",
   "language": "python",
   "name": "python3"
  },
  "language_info": {
   "codemirror_mode": {
    "name": "ipython",
    "version": 3
   },
   "file_extension": ".py",
   "mimetype": "text/x-python",
   "name": "python",
   "nbconvert_exporter": "python",
   "pygments_lexer": "ipython3",
   "version": "3.6.0"
  }
 },
 "nbformat": 4,
 "nbformat_minor": 2
}
